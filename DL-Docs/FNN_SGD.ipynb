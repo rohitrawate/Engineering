{
  "nbformat": 4,
  "nbformat_minor": 0,
  "metadata": {
    "colab": {
      "provenance": [],
      "authorship_tag": "ABX9TyMo6yVAVHGeqS5bbk8egGdF",
      "include_colab_link": true
    },
    "kernelspec": {
      "name": "python3",
      "display_name": "Python 3"
    },
    "language_info": {
      "name": "python"
    }
  },
  "cells": [
    {
      "cell_type": "markdown",
      "metadata": {
        "id": "view-in-github",
        "colab_type": "text"
      },
      "source": [
        "<a href=\"https://colab.research.google.com/github/rohitrawate/Engineering/blob/main/DL-Docs/FNN_SGD.ipynb\" target=\"_parent\"><img src=\"https://colab.research.google.com/assets/colab-badge.svg\" alt=\"Open In Colab\"/></a>"
      ]
    },
    {
      "cell_type": "markdown",
      "source": [
        "**Rohit Rawate** \n",
        "\n",
        "*2.FNN using Keras and TensorFLow*\n",
        "\n",
        "Assignment : Deep Learning "
      ],
      "metadata": {
        "id": "UY0ttsiuwTLK"
      }
    },
    {
      "cell_type": "code",
      "execution_count": 22,
      "metadata": {
        "id": "Iz7IvOM2guKG"
      },
      "outputs": [],
      "source": [
        "from sklearn.preprocessing import LabelBinarizer\n",
        "from sklearn.metrics import classification_report\n",
        "import tensorflow as tf\n",
        "from tensorflow import keras\n",
        "from keras.models import Sequential\n",
        "\n",
        "from keras.layers import Dense\n",
        "from keras.optimizers import SGD\n",
        "from keras.datasets import mnist\n"
      ]
    },
    {
      "cell_type": "code",
      "source": [
        "from keras import backend as K\n",
        "import matplotlib.pyplot as plt\n",
        "import numpy as np\n",
        "import argparse\n",
        "import random"
      ],
      "metadata": {
        "id": "oQn4Q9lJg9kC"
      },
      "execution_count": 23,
      "outputs": []
    },
    {
      "cell_type": "code",
      "source": [
        "print(\"[INFO accessing MNIST...]\")\n",
        "((X_train, Y_train), (X_test, Y_test)) = mnist.load_data()"
      ],
      "metadata": {
        "colab": {
          "base_uri": "https://localhost:8080/"
        },
        "id": "0J9pi5vWig9I",
        "outputId": "e5258f21-aac9-4900-c357-b9a574a57885"
      },
      "execution_count": 24,
      "outputs": [
        {
          "output_type": "stream",
          "name": "stdout",
          "text": [
            "[INFO accessing MNIST...]\n"
          ]
        }
      ]
    },
    {
      "cell_type": "code",
      "source": [
        "X_train.shape\n"
      ],
      "metadata": {
        "id": "v45nCnENjPge",
        "colab": {
          "base_uri": "https://localhost:8080/"
        },
        "outputId": "45574a00-0b3a-477c-b781-b4e5eda86cac"
      },
      "execution_count": 25,
      "outputs": [
        {
          "output_type": "execute_result",
          "data": {
            "text/plain": [
              "(60000, 28, 28)"
            ]
          },
          "metadata": {},
          "execution_count": 25
        }
      ]
    },
    {
      "cell_type": "code",
      "source": [
        "X_test.shape"
      ],
      "metadata": {
        "colab": {
          "base_uri": "https://localhost:8080/"
        },
        "id": "69n4nVELO4yD",
        "outputId": "fcce1ea4-f820-424c-987c-ea22fe867951"
      },
      "execution_count": 26,
      "outputs": [
        {
          "output_type": "execute_result",
          "data": {
            "text/plain": [
              "(10000, 28, 28)"
            ]
          },
          "metadata": {},
          "execution_count": 26
        }
      ]
    },
    {
      "cell_type": "code",
      "source": [
        "# plt.matshow(X_train[0])\n",
        "plt.matshow(X_train[38])\n"
      ],
      "metadata": {
        "colab": {
          "base_uri": "https://localhost:8080/",
          "height": 292
        },
        "id": "MqUE8VWQZJ0C",
        "outputId": "f4b3c4ab-386c-4d19-e1cc-b2167acc7c80"
      },
      "execution_count": 27,
      "outputs": [
        {
          "output_type": "execute_result",
          "data": {
            "text/plain": [
              "<matplotlib.image.AxesImage at 0x7f6f812b2310>"
            ]
          },
          "metadata": {},
          "execution_count": 27
        },
        {
          "output_type": "display_data",
          "data": {
            "text/plain": [
              "<Figure size 288x288 with 1 Axes>"
            ],
            "image/png": "[encoded data removed]"
          },
          "metadata": {
            "needs_background": "light"
          }
        }
      ]
    },
    {
      "cell_type": "code",
      "source": [
        "X_train = X_train.reshape((X_train.shape[0] , 28*28*1))\n",
        "X_test = X_test.reshape((X_test.shape[0] , 28*28*1))\n",
        "X_train =X_train.astype(\"float32\")/ 255\n",
        "X_test =X_test.astype(\"float32\")/ 255\n"
      ],
      "metadata": {
        "id": "zLBXqhJJPAt5"
      },
      "execution_count": 28,
      "outputs": []
    },
    {
      "cell_type": "code",
      "source": [
        "X_test.shape # (10000, 784)\n",
        "\n",
        "X_train.shape # (60000, 784)"
      ],
      "metadata": {
        "colab": {
          "base_uri": "https://localhost:8080/"
        },
        "id": "LRi4yGdnsNW8",
        "outputId": "09cd8726-55fc-4f7e-efa9-834c305735d2"
      },
      "execution_count": 29,
      "outputs": [
        {
          "output_type": "execute_result",
          "data": {
            "text/plain": [
              "(60000, 784)"
            ]
          },
          "metadata": {},
          "execution_count": 29
        }
      ]
    },
    {
      "cell_type": "code",
      "source": [
        "Y_train.shape # (60000,)\n",
        "Y_test.shape  # (10000 ,)"
      ],
      "metadata": {
        "colab": {
          "base_uri": "https://localhost:8080/"
        },
        "id": "oqdSb6cCPMLR",
        "outputId": "9e3c36eb-c1fb-4664-e8de-b62819247bf8"
      },
      "execution_count": 30,
      "outputs": [
        {
          "output_type": "execute_result",
          "data": {
            "text/plain": [
              "(10000,)"
            ]
          },
          "metadata": {},
          "execution_count": 30
        }
      ]
    },
    {
      "cell_type": "code",
      "source": [
        "lb = LabelBinarizer()\n",
        "Y_train = lb.fit_transform(Y_train)\n",
        "Y_test  =  lb.transform(Y_test)"
      ],
      "metadata": {
        "id": "jmZwZ3fxR1xF"
      },
      "execution_count": 31,
      "outputs": []
    },
    {
      "cell_type": "code",
      "source": [
        "Y_train.shape #(60000, 10)\n",
        "Y_test.shape  # (10000, 10)"
      ],
      "metadata": {
        "colab": {
          "base_uri": "https://localhost:8080/"
        },
        "id": "RXluAhnyPSxD",
        "outputId": "87b2fec2-64f3-4faa-c1bf-497ed53fdd5b"
      },
      "execution_count": 32,
      "outputs": [
        {
          "output_type": "execute_result",
          "data": {
            "text/plain": [
              "(10000, 10)"
            ]
          },
          "metadata": {},
          "execution_count": 32
        }
      ]
    },
    {
      "cell_type": "code",
      "source": [
        "# building the model \n",
        "model = Sequential()\n",
        "keras.layers.Flatten(input_shape=(28, 28)),\n",
        "model.add(Dense(128 , input_shape = (784,) , activation= 'sigmoid') )\n",
        "model.add(Dense(64 , activation = 'sigmoid'))\n",
        "model.add(Dense (10 , activation = 'softmax'))"
      ],
      "metadata": {
        "id": "Io0bQsZ-TbNc"
      },
      "execution_count": 33,
      "outputs": []
    },
    {
      "cell_type": "code",
      "source": [
        "model.summary()"
      ],
      "metadata": {
        "colab": {
          "base_uri": "https://localhost:8080/"
        },
        "id": "x_GoYP8BZZZJ",
        "outputId": "a5bb727c-6dd9-409b-94e8-261526a15ecf"
      },
      "execution_count": 34,
      "outputs": [
        {
          "output_type": "stream",
          "name": "stdout",
          "text": [
            "Model: \"sequential_1\"\n",
            "_________________________________________________________________\n",
            " Layer (type)                Output Shape              Param #   \n",
            "=================================================================\n",
            " dense_3 (Dense)             (None, 128)               100480    \n",
            "                                                                 \n",
            " dense_4 (Dense)             (None, 64)                8256      \n",
            "                                                                 \n",
            " dense_5 (Dense)             (None, 10)                650       \n",
            "                                                                 \n",
            "=================================================================\n",
            "Total params: 109,386\n",
            "Trainable params: 109,386\n",
            "Non-trainable params: 0\n",
            "_________________________________________________________________\n"
          ]
        }
      ]
    },
    {
      "cell_type": "code",
      "source": [
        "sgd = SGD(0.01)\n",
        "epochs =10\n",
        "# loss='binary_crossentropy' activation='sigmoid'\n",
        "model.compile( loss = \"categorical_crossentropy\" , optimizer=sgd , metrics=[\"accuracy\"])\n",
        "# model.compile( loss='sparse_categorical_crossentropy', optimizer=sgd , metrics=[\"accuracy\"])\n",
        "\n",
        "#  H (history)\n",
        "history = model.fit(X_train, Y_train, validation_data=(X_test, Y_test), epochs=14, batch_size=128)\n",
        "\n"
      ],
      "metadata": {
        "colab": {
          "base_uri": "https://localhost:8080/"
        },
        "id": "_vVUHo6MXxMz",
        "outputId": "62186f60-a7e6-422b-cbae-bda492e43d7c"
      },
      "execution_count": 36,
      "outputs": [
        {
          "output_type": "stream",
          "name": "stdout",
          "text": [
            "Epoch 1/14\n",
            "469/469 [==============================] - 6s 11ms/step - loss: 2.2802 - accuracy: 0.1899 - val_loss: 2.2455 - val_accuracy: 0.2835\n",
            "Epoch 2/14\n",
            "469/469 [==============================] - 2s 5ms/step - loss: 2.2188 - accuracy: 0.3860 - val_loss: 2.1851 - val_accuracy: 0.4489\n",
            "Epoch 3/14\n",
            "469/469 [==============================] - 3s 6ms/step - loss: 2.1504 - accuracy: 0.5245 - val_loss: 2.1039 - val_accuracy: 0.5690\n",
            "Epoch 4/14\n",
            "469/469 [==============================] - 2s 5ms/step - loss: 2.0547 - accuracy: 0.5849 - val_loss: 1.9879 - val_accuracy: 0.6496\n",
            "Epoch 5/14\n",
            "469/469 [==============================] - 2s 5ms/step - loss: 1.9187 - accuracy: 0.6278 - val_loss: 1.8276 - val_accuracy: 0.6492\n",
            "Epoch 6/14\n",
            "469/469 [==============================] - 3s 6ms/step - loss: 1.7415 - accuracy: 0.6505 - val_loss: 1.6334 - val_accuracy: 0.6858\n",
            "Epoch 7/14\n",
            "469/469 [==============================] - 3s 6ms/step - loss: 1.5451 - accuracy: 0.6847 - val_loss: 1.4374 - val_accuracy: 0.7132\n",
            "Epoch 8/14\n",
            "469/469 [==============================] - 3s 6ms/step - loss: 1.3603 - accuracy: 0.7195 - val_loss: 1.2643 - val_accuracy: 0.7418\n",
            "Epoch 9/14\n",
            "469/469 [==============================] - 3s 6ms/step - loss: 1.2025 - accuracy: 0.7463 - val_loss: 1.1208 - val_accuracy: 0.7669\n",
            "Epoch 10/14\n",
            "469/469 [==============================] - 2s 5ms/step - loss: 1.0725 - accuracy: 0.7694 - val_loss: 1.0032 - val_accuracy: 0.7917\n",
            "Epoch 11/14\n",
            "469/469 [==============================] - 3s 6ms/step - loss: 0.9663 - accuracy: 0.7879 - val_loss: 0.9073 - val_accuracy: 0.8064\n",
            "Epoch 12/14\n",
            "469/469 [==============================] - 2s 5ms/step - loss: 0.8797 - accuracy: 0.8032 - val_loss: 0.8287 - val_accuracy: 0.8173\n",
            "Epoch 13/14\n",
            "469/469 [==============================] - 2s 5ms/step - loss: 0.8086 - accuracy: 0.8142 - val_loss: 0.7646 - val_accuracy: 0.8287\n",
            "Epoch 14/14\n",
            "469/469 [==============================] - 3s 6ms/step - loss: 0.7501 - accuracy: 0.8230 - val_loss: 0.7111 - val_accuracy: 0.8338\n"
          ]
        }
      ]
    },
    {
      "cell_type": "code",
      "source": [
        "from tensorflow.python.ops.math_ops import argmax\n",
        "#making the predictions\n",
        "predictions = model.predict(X_test, batch_size = 128)\n",
        "print(\"Classification Report\\n \" + classification_report(Y_test.argmax(axis=1), predictions.argmax(axis=1) , target_names= [str(x) for x in lb.classes_]) )\n",
        "print(predictions.argmax(axis=1))"
      ],
      "metadata": {
        "colab": {
          "base_uri": "https://localhost:8080/"
        },
        "id": "Q8EQtAc6e6LT",
        "outputId": "91ca56ee-f737-4fc2-9bda-8d4eddba3e34"
      },
      "execution_count": 39,
      "outputs": [
        {
          "output_type": "stream",
          "name": "stdout",
          "text": [
            "79/79 [==============================] - 1s 7ms/step\n",
            "Classification Report\n",
            "               precision    recall  f1-score   support\n",
            "\n",
            "           0       0.89      0.96      0.92       980\n",
            "           1       0.86      0.98      0.92      1135\n",
            "           2       0.87      0.83      0.85      1032\n",
            "           3       0.80      0.85      0.82      1010\n",
            "           4       0.78      0.75      0.77       982\n",
            "           5       0.82      0.67      0.74       892\n",
            "           6       0.85      0.92      0.88       958\n",
            "           7       0.87      0.88      0.87      1028\n",
            "           8       0.85      0.72      0.78       974\n",
            "           9       0.72      0.76      0.74      1009\n",
            "\n",
            "    accuracy                           0.83     10000\n",
            "   macro avg       0.83      0.83      0.83     10000\n",
            "weighted avg       0.83      0.83      0.83     10000\n",
            "\n",
            "[7 2 1 ... 9 5 6]\n"
          ]
        }
      ]
    },
    {
      "cell_type": "code",
      "source": [
        "test_loss,test_acc=model.evaluate(X_test, Y_test)\n",
        "print(\"Loss=%.3f\" %test_loss)\n",
        "print(\"Accuracy=%.3f\" %test_acc)\n"
      ],
      "metadata": {
        "colab": {
          "base_uri": "https://localhost:8080/"
        },
        "id": "oRcE5bEC1bYb",
        "outputId": "8ce72dfa-5762-4850-9838-3636e36eae6e"
      },
      "execution_count": 40,
      "outputs": [
        {
          "output_type": "stream",
          "name": "stdout",
          "text": [
            "313/313 [==============================] - 1s 2ms/step - loss: 0.7111 - accuracy: 0.8338\n",
            "Loss=0.711\n",
            "Accuracy=0.834\n"
          ]
        }
      ]
    },
    {
      "cell_type": "markdown",
      "source": [
        "Making Prediction on New Data\n",
        "\n"
      ],
      "metadata": {
        "id": "w2t2e94f2dXp"
      }
    },
    {
      "cell_type": "code",
      "source": [
        "n=random.randint(0,9999)\n",
        "# plt.imshow(x_test[n])\n",
        "plt.matshow(X_test[n])\n",
        "plt.show()\n",
        "# n"
      ],
      "metadata": {
        "colab": {
          "base_uri": "https://localhost:8080/",
          "height": 275
        },
        "id": "dgHpXJhC1yG4",
        "outputId": "95c4c7ab-ea10-4bbb-dbc3-ac4670a377c5"
      },
      "execution_count": null,
      "outputs": [
        {
          "output_type": "display_data",
          "data": {
            "text/plain": [
              "<Figure size 288x288 with 1 Axes>"
            ],
            "image/png": "[encoded data removed]"
          },
          "metadata": {}
        }
      ]
    },
    {
      "cell_type": "code",
      "source": [
        "# #we use predict() on new data\n",
        "# predicted_value= model.predict(X_test)\n",
        "# print(\"Handwritten number in the image is= %d\" %np.argmax(predicted_value[n]))"
      ],
      "metadata": {
        "id": "9gaUFMDV28M8"
      },
      "execution_count": null,
      "outputs": []
    },
    {
      "cell_type": "code",
      "source": [
        "history.history.keys()\n"
      ],
      "metadata": {
        "colab": {
          "base_uri": "https://localhost:8080/"
        },
        "id": "_yoRW_i71yJl",
        "outputId": "2ce761b6-e3c9-4a29-adbd-3e6de450b7c2"
      },
      "execution_count": 41,
      "outputs": [
        {
          "output_type": "execute_result",
          "data": {
            "text/plain": [
              "dict_keys(['loss', 'accuracy', 'val_loss', 'val_accuracy'])"
            ]
          },
          "metadata": {},
          "execution_count": 41
        }
      ]
    },
    {
      "cell_type": "code",
      "source": [
        "plt.plot(history.history['accuracy'])\n",
        "plt.plot(history.history['val_accuracy'])\n",
        "plt.title('model accuracy')\n",
        "plt.ylabel('accuracy')\n",
        "plt.xlabel('epoch')\n",
        "plt.legend(['Train', 'Validation'], loc='upper left')\n",
        "plt.show()"
      ],
      "metadata": {
        "colab": {
          "base_uri": "https://localhost:8080/",
          "height": 295
        },
        "id": "i-5fdOeq4sKv",
        "outputId": "13fde82f-83f6-4a32-9a0a-c13afbfa2785"
      },
      "execution_count": 43,
      "outputs": [
        {
          "output_type": "display_data",
          "data": {
            "text/plain": [
              "<Figure size 432x288 with 1 Axes>"
            ],
            "image/png": "[encoded data removed]"
          },
          "metadata": {
            "needs_background": "light"
          }
        }
      ]
    },
    {
      "cell_type": "code",
      "source": [
        "plt.plot(history.history['loss'])\n",
        "plt.plot(history.history['val_loss'])\n",
        "plt.title('model loss')\n",
        "plt.ylabel('loss')\n",
        "plt.xlabel('epoch')\n",
        "plt.legend(['Train', 'Validation'], loc='upper left')\n",
        "plt.show()"
      ],
      "metadata": {
        "colab": {
          "base_uri": "https://localhost:8080/",
          "height": 299
        },
        "id": "2Q9ZD3YG4yZY",
        "outputId": "aaa54df2-8877-431d-bf40-ad85c0f2b74e"
      },
      "execution_count": null,
      "outputs": [
        {
          "output_type": "display_data",
          "data": {
            "text/plain": [
              "<Figure size 432x288 with 1 Axes>"
            ],
            "image/png": "[encoded data removed]"
          },
          "metadata": {}
        }
      ]
    },
    {
      "cell_type": "code",
      "source": [
        "# plt.style.use(\"ggplot\")\n",
        "plt.figure()\n",
        "plt.plot(np.arange(0 , epochs), history.history[\"loss\"], label=\"train_loss\")\n",
        "plt.plot(np.arange(0, epochs), history.history[\"val_loss\"], label = \"val_loss\")\n",
        "plt.plot(np.arange(0, epochs), history.history[\"accuracy\"] , label= \"train_acc\")\n",
        "plt.plot(np.arange(0, epochs), history.history[\"val_accuracy\"], label= \"val_acc\")\n",
        "plt.title(\"Training Loss and Accuracy\")\n",
        "plt.xlabel(\"Epoch #\")\n",
        "plt.ylabel(\"Loss/Accuracy\")\n",
        "plt.legend()"
      ],
      "metadata": {
        "colab": {
          "base_uri": "https://localhost:8080/",
          "height": 316
        },
        "id": "okMui9xPteht",
        "outputId": "9eb83dcb-4d56-45a8-ba41-81c1636eabaf"
      },
      "execution_count": null,
      "outputs": [
        {
          "output_type": "execute_result",
          "data": {
            "text/plain": [
              "<matplotlib.legend.Legend at 0x7f43de366990>"
            ]
          },
          "metadata": {},
          "execution_count": 82
        },
        {
          "output_type": "display_data",
          "data": {
            "text/plain": [
              "<Figure size 432x288 with 1 Axes>"
            ],
            "image/png": "[encoded data removed]"
          },
          "metadata": {}
        }
      ]
    },
    {
      "cell_type": "code",
      "source": [],
      "metadata": {
        "id": "r9HA9un6xTEN"
      },
      "execution_count": null,
      "outputs": []
    },
    {
      "cell_type": "code",
      "source": [
        "from google.colab import drive\n",
        "drive.mount('/content/drive')"
      ],
      "metadata": {
        "id": "7fbPouBA0NF7"
      },
      "execution_count": null,
      "outputs": []
    }
  ]
}