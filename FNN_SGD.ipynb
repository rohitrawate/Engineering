{
  "nbformat": 4,
  "nbformat_minor": 0,
  "metadata": {
    "colab": {
      "provenance": [],
      "authorship_tag": "ABX9TyM+fFYjKpUVlbrbxhO5AtDX",
      "include_colab_link": true
    },
    "kernelspec": {
      "name": "python3",
      "display_name": "Python 3"
    },
    "language_info": {
      "name": "python"
    }
  },
  "cells": [
    {
      "cell_type": "markdown",
      "metadata": {
        "id": "view-in-github",
        "colab_type": "text"
      },
      "source": [
        "<a href=\"https://colab.research.google.com/github/rohitrawate/Engineering/blob/main/FNN_SGD.ipynb\" target=\"_parent\"><img src=\"https://colab.research.google.com/assets/colab-badge.svg\" alt=\"Open In Colab\"/></a>"
      ]
    },
    {
      "cell_type": "markdown",
      "source": [
        "**Rohit Rawate** \n",
        "\n",
        "*2.FNN using Keras and TensorFLow*\n",
        "\n",
        "Assignment : Deep Learning "
      ],
      "metadata": {
        "id": "UY0ttsiuwTLK"
      }
    },
    {
      "cell_type": "code",
      "execution_count": 52,
      "metadata": {
        "id": "Iz7IvOM2guKG"
      },
      "outputs": [],
      "source": [
        "from sklearn.preprocessing import LabelBinarizer\n",
        "from sklearn.metrics import classification_report\n",
        "import tensorflow as tf\n",
        "from tensorflow import keras\n",
        "from keras.models import Sequential\n",
        "\n",
        "from keras.layers import Dense\n",
        "from keras.optimizers import SGD\n",
        "from keras.datasets import mnist\n"
      ]
    },
    {
      "cell_type": "code",
      "source": [
        "from keras import backend as K\n",
        "import matplotlib.pyplot as plt\n",
        "import numpy as np\n",
        "import argparse\n"
      ],
      "metadata": {
        "id": "oQn4Q9lJg9kC"
      },
      "execution_count": 53,
      "outputs": []
    },
    {
      "cell_type": "code",
      "source": [
        "print(\"[INFO accessing MNIST...]\")\n",
        "((X_train, Y_train), (X_test, Y_test)) = mnist.load_data()"
      ],
      "metadata": {
        "colab": {
          "base_uri": "https://localhost:8080/"
        },
        "id": "0J9pi5vWig9I",
        "outputId": "a0f4ec3f-ec32-491b-ad40-4d8115038d99"
      },
      "execution_count": 54,
      "outputs": [
        {
          "output_type": "stream",
          "name": "stdout",
          "text": [
            "[INFO accessing MNIST...]\n"
          ]
        }
      ]
    },
    {
      "cell_type": "code",
      "source": [
        "X_train.shape\n"
      ],
      "metadata": {
        "id": "v45nCnENjPge",
        "colab": {
          "base_uri": "https://localhost:8080/"
        },
        "outputId": "00b9fc5c-0fc6-4407-d107-ef4845750fb7"
      },
      "execution_count": 55,
      "outputs": [
        {
          "output_type": "execute_result",
          "data": {
            "text/plain": [
              "(60000, 28, 28)"
            ]
          },
          "metadata": {},
          "execution_count": 55
        }
      ]
    },
    {
      "cell_type": "code",
      "source": [
        "X_test.shape"
      ],
      "metadata": {
        "colab": {
          "base_uri": "https://localhost:8080/"
        },
        "id": "69n4nVELO4yD",
        "outputId": "180a5313-c088-4c39-8b93-173a0983b80f"
      },
      "execution_count": 56,
      "outputs": [
        {
          "output_type": "execute_result",
          "data": {
            "text/plain": [
              "(10000, 28, 28)"
            ]
          },
          "metadata": {},
          "execution_count": 56
        }
      ]
    },
    {
      "cell_type": "code",
      "source": [
        "# plt.matshow(X_train[0])\n",
        "plt.matshow(X_train[9])\n"
      ],
      "metadata": {
        "colab": {
          "base_uri": "https://localhost:8080/",
          "height": 292
        },
        "id": "MqUE8VWQZJ0C",
        "outputId": "5d56506c-465d-49db-b0ff-f7eb0a5c872e"
      },
      "execution_count": 57,
      "outputs": [
        {
          "output_type": "execute_result",
          "data": {
            "text/plain": [
              "<matplotlib.image.AxesImage at 0x7f43e4b54550>"
            ]
          },
          "metadata": {},
          "execution_count": 57
        },
        {
          "output_type": "display_data",
          "data": {
            "text/plain": [
              "<Figure size 288x288 with 1 Axes>"
            ],
            "image/png": "[encoded data removed]"
          },
          "metadata": {
            "needs_background": "light"
          }
        }
      ]
    },
    {
      "cell_type": "code",
      "source": [
        "# X_train = X_train.reshape((X_train.shape[0] , 28*28*1))\n",
        "# X_test = X_test.reshape((X_test.shape[0] , 28*28*1))\n",
        "# X_train =X_train.astype(\"float32\")/ 255\n",
        "# X_test =X_test.astype(\"float32\")/ 255\n",
        "((X_train, Y_train), (X_test, Y_test)) = mnist.load_data()\n",
        "X_train = X_train.reshape((X_train.shape[0], 28 * 28 * 1))\n",
        "X_test = X_test.reshape((X_test.shape[0], 28 * 28 * 1))\n",
        "X_train = X_train.astype(\"float32\") / 255.0\n",
        "X_test = X_test.astype(\"float32\") / 255.0"
      ],
      "metadata": {
        "id": "zLBXqhJJPAt5"
      },
      "execution_count": 58,
      "outputs": []
    },
    {
      "cell_type": "code",
      "source": [
        "X_test.shape # (10000, 784)\n",
        "\n",
        "X_train.shape # (60000, 784)"
      ],
      "metadata": {
        "colab": {
          "base_uri": "https://localhost:8080/"
        },
        "id": "LRi4yGdnsNW8",
        "outputId": "ee6e6161-b929-4990-9012-29561f6d6f64"
      },
      "execution_count": 59,
      "outputs": [
        {
          "output_type": "execute_result",
          "data": {
            "text/plain": [
              "(60000, 784)"
            ]
          },
          "metadata": {},
          "execution_count": 59
        }
      ]
    },
    {
      "cell_type": "code",
      "source": [
        "lb = LabelBinarizer()\n",
        "Y_train = lb.fit_transform(Y_train)\n",
        "Y_test  =  lb.transform(Y_test)"
      ],
      "metadata": {
        "id": "jmZwZ3fxR1xF"
      },
      "execution_count": 60,
      "outputs": []
    },
    {
      "cell_type": "code",
      "source": [
        "# building the model \n",
        "model = Sequential()\n",
        "keras.layers.Flatten(input_shape=(28, 28)),\n",
        "model.add(Dense(128 , input_shape = (784,) , activation= 'sigmoid') )\n",
        "model.add(Dense(64 , activation = 'sigmoid'))\n",
        "model.add(Dense (10 , activation = 'softmax'))"
      ],
      "metadata": {
        "id": "Io0bQsZ-TbNc"
      },
      "execution_count": 61,
      "outputs": []
    },
    {
      "cell_type": "code",
      "source": [
        "model.summary()"
      ],
      "metadata": {
        "colab": {
          "base_uri": "https://localhost:8080/"
        },
        "id": "x_GoYP8BZZZJ",
        "outputId": "cf3d2d0b-987e-4b66-a45a-a01891c097f0"
      },
      "execution_count": 62,
      "outputs": [
        {
          "output_type": "stream",
          "name": "stdout",
          "text": [
            "Model: \"sequential_2\"\n",
            "_________________________________________________________________\n",
            " Layer (type)                Output Shape              Param #   \n",
            "=================================================================\n",
            " dense_6 (Dense)             (None, 128)               100480    \n",
            "                                                                 \n",
            " dense_7 (Dense)             (None, 64)                8256      \n",
            "                                                                 \n",
            " dense_8 (Dense)             (None, 10)                650       \n",
            "                                                                 \n",
            "=================================================================\n",
            "Total params: 109,386\n",
            "Trainable params: 109,386\n",
            "Non-trainable params: 0\n",
            "_________________________________________________________________\n"
          ]
        }
      ]
    },
    {
      "cell_type": "code",
      "source": [
        "sgd = SGD(0.01)\n",
        "epochs =10\n",
        "# loss='binary_crossentropy' activation='sigmoid'\n",
        "model.compile( loss = \"categorical_crossentropy\" , optimizer=sgd , metrics=[\"accuracy\"])\n",
        "# model.compile( loss='binary_crossentropy', optimizer=sgd , metrics=[\"accuracy\"])\n",
        "\n",
        "#  H (history)\n",
        "history = model.fit(X_train, Y_train, validation_data=(X_test, Y_test), epochs=10, batch_size=128)\n",
        "\n"
      ],
      "metadata": {
        "colab": {
          "base_uri": "https://localhost:8080/"
        },
        "id": "_vVUHo6MXxMz",
        "outputId": "a7f7c060-ac43-4136-f998-28ad0d4d9dba"
      },
      "execution_count": 64,
      "outputs": [
        {
          "output_type": "stream",
          "name": "stdout",
          "text": [
            "Epoch 1/10\n",
            "469/469 [==============================] - 5s 8ms/step - loss: 2.2305 - accuracy: 0.3520 - val_loss: 2.1996 - val_accuracy: 0.3565\n",
            "Epoch 2/10\n",
            "469/469 [==============================] - 3s 7ms/step - loss: 2.1682 - accuracy: 0.4613 - val_loss: 2.1251 - val_accuracy: 0.5208\n",
            "Epoch 3/10\n",
            "469/469 [==============================] - 4s 8ms/step - loss: 2.0811 - accuracy: 0.5330 - val_loss: 2.0194 - val_accuracy: 0.5646\n",
            "Epoch 4/10\n",
            "469/469 [==============================] - 4s 8ms/step - loss: 1.9593 - accuracy: 0.5802 - val_loss: 1.8753 - val_accuracy: 0.5853\n",
            "Epoch 5/10\n",
            "469/469 [==============================] - 3s 7ms/step - loss: 1.8009 - accuracy: 0.6103 - val_loss: 1.6986 - val_accuracy: 0.6582\n",
            "Epoch 6/10\n",
            "469/469 [==============================] - 3s 7ms/step - loss: 1.6200 - accuracy: 0.6573 - val_loss: 1.5114 - val_accuracy: 0.6929\n",
            "Epoch 7/10\n",
            "469/469 [==============================] - 3s 7ms/step - loss: 1.4389 - accuracy: 0.6987 - val_loss: 1.3365 - val_accuracy: 0.7240\n",
            "Epoch 8/10\n",
            "469/469 [==============================] - 3s 6ms/step - loss: 1.2764 - accuracy: 0.7298 - val_loss: 1.1865 - val_accuracy: 0.7508\n",
            "Epoch 9/10\n",
            "469/469 [==============================] - 3s 6ms/step - loss: 1.1394 - accuracy: 0.7549 - val_loss: 1.0630 - val_accuracy: 0.7685\n",
            "Epoch 10/10\n",
            "469/469 [==============================] - 3s 7ms/step - loss: 1.0269 - accuracy: 0.7734 - val_loss: 0.9612 - val_accuracy: 0.7884\n"
          ]
        }
      ]
    },
    {
      "cell_type": "code",
      "source": [
        "from tensorflow.python.ops.math_ops import argmax\n",
        "#making the predictions\n",
        "predictions = model.predict(X_test, batch_size = 128)\n",
        "print(\"Classification Report\\n \" + classification_report(Y_test.argmax(axis=1), predictions.argmax(axis=1) , target_names= [str(x) for x in lb.classes_]) )\n",
        "# print(predictions.argmax(axis=1))"
      ],
      "metadata": {
        "colab": {
          "base_uri": "https://localhost:8080/"
        },
        "id": "Q8EQtAc6e6LT",
        "outputId": "06243b1e-c738-41c0-fb2d-abf15dcc9c30"
      },
      "execution_count": 75,
      "outputs": [
        {
          "output_type": "stream",
          "name": "stdout",
          "text": [
            "79/79 [==============================] - 0s 3ms/step\n",
            "Classification Report\n",
            "               precision    recall  f1-score   support\n",
            "\n",
            "           0       0.83      0.96      0.89       980\n",
            "           1       0.79      0.98      0.88      1135\n",
            "           2       0.81      0.74      0.77      1032\n",
            "           3       0.65      0.84      0.73      1010\n",
            "           4       0.77      0.82      0.80       982\n",
            "           5       0.84      0.38      0.52       892\n",
            "           6       0.83      0.89      0.86       958\n",
            "           7       0.83      0.86      0.84      1028\n",
            "           8       0.85      0.62      0.72       974\n",
            "           9       0.77      0.73      0.75      1009\n",
            "\n",
            "    accuracy                           0.79     10000\n",
            "   macro avg       0.80      0.78      0.78     10000\n",
            "weighted avg       0.80      0.79      0.78     10000\n",
            "\n"
          ]
        }
      ]
    },
    {
      "cell_type": "code",
      "source": [
        "# plt.style.use(\"ggplot\")\n",
        "plt.figure()\n",
        "plt.plot(np.arange(0 , epochs), history.history[\"loss\"], label=\"train_loss\")\n",
        "plt.plot(np.arange(0, epochs), history.history[\"val_loss\"], label = \"val_loss\")\n",
        "plt.plot(np.arange(0, epochs), history.history[\"accuracy\"] , label= \"train_acc\")\n",
        "plt.plot(np.arange(0, epochs), history.history[\"val_accuracy\"], label= \"val_acc\")\n",
        "plt.title(\"Training Loss and Accuracy\")\n",
        "plt.xlabel(\"Epoch #\")\n",
        "plt.ylabel(\"Loss/Accuracy\")\n",
        "plt.legend()"
      ],
      "metadata": {
        "colab": {
          "base_uri": "https://localhost:8080/",
          "height": 316
        },
        "id": "okMui9xPteht",
        "outputId": "9eb83dcb-4d56-45a8-ba41-81c1636eabaf"
      },
      "execution_count": 82,
      "outputs": [
        {
          "output_type": "execute_result",
          "data": {
            "text/plain": [
              "<matplotlib.legend.Legend at 0x7f43de366990>"
            ]
          },
          "metadata": {},
          "execution_count": 82
        },
        {
          "output_type": "display_data",
          "data": {
            "text/plain": [
              "<Figure size 432x288 with 1 Axes>"
            ],
            "image/png": "[encoded data removed]"
          },
          "metadata": {}
        }
      ]
    },
    {
      "cell_type": "code",
      "source": [],
      "metadata": {
        "id": "r9HA9un6xTEN"
      },
      "execution_count": null,
      "outputs": []
    }
  ]
}