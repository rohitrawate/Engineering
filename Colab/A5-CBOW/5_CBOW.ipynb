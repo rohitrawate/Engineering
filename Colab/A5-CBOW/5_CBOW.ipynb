{
  "nbformat": 4,
  "nbformat_minor": 0,
  "metadata": {
    "colab": {
      "provenance": [],
      "authorship_tag": "ABX9TyMAjK0znxv1rivNMlb7dumA",
      "include_colab_link": true
    },
    "kernelspec": {
      "name": "python3",
      "display_name": "Python 3"
    },
    "language_info": {
      "name": "python"
    }
  },
  "cells": [
    {
      "cell_type": "markdown",
      "metadata": {
        "id": "view-in-github",
        "colab_type": "text"
      },
      "source": [
        "<a href=\"https://colab.research.google.com/github/rohitrawate/Engineering/blob/main/Colab/A5-CBOW/5_CBOW.ipynb\" target=\"_parent\"><img src=\"https://colab.research.google.com/assets/colab-badge.svg\" alt=\"Open In Colab\"/></a>"
      ]
    },
    {
      "cell_type": "code",
      "execution_count": null,
      "metadata": {
        "id": "h4szT3JUhJSS"
      },
      "outputs": [],
      "source": []
    },
    {
      "cell_type": "markdown",
      "source": [
        "Rohit Rawate\n",
        "\n",
        "Assignment : 5\n",
        "\n",
        "DL : CBOW"
      ],
      "metadata": {
        "id": "PfLBj7fbhPf6"
      }
    },
    {
      "cell_type": "code",
      "source": [
        "import matplotlib.pyplot as plt\n",
        "import seaborn as sns\n",
        "import matplotlib as mpl\n",
        "import matplotlib.pylab as pylab\n",
        "import numpy as np\n",
        "%matplotlib inline"
      ],
      "metadata": {
        "id": "l5rpMNHNhZVL"
      },
      "execution_count": 1,
      "outputs": []
    },
    {
      "cell_type": "code",
      "source": [
        "import re"
      ],
      "metadata": {
        "id": "fKFDTzrOhbm_"
      },
      "execution_count": 2,
      "outputs": []
    },
    {
      "cell_type": "code",
      "source": [
        "sentences = \"\"\"We are about to study the idea of a computational process.\n",
        "Computational processes are abstract beings that inhabit computers.\n",
        "As they evolve, processes manipulate other abstract things called data.\n",
        "The evolution of a process is directed by a pattern of rules\n",
        "called a program. People create programs to direct processes. In effect,\n",
        "we conjure the spirits of the computer with our spells.\"\"\""
      ],
      "metadata": {
        "id": "n-ECP6DEhd2a"
      },
      "execution_count": 3,
      "outputs": []
    },
    {
      "cell_type": "markdown",
      "source": [
        "Clean data"
      ],
      "metadata": {
        "id": "8cm6cWbKhxeh"
      }
    },
    {
      "cell_type": "code",
      "source": [
        "# remove special characters\n",
        "sentences = re.sub('[^A-Za-z0-9]+', ' ', sentences)\n",
        "\n",
        "# remove 1 letter words\n",
        "sentences = re.sub(r'(?:^| )\\w(?:$| )', ' ', sentences).strip()\n",
        "\n",
        "# lower all characters\n",
        "sentences = sentences.lower()"
      ],
      "metadata": {
        "id": "JpLXbARChwN7"
      },
      "execution_count": null,
      "outputs": []
    },
    {
      "cell_type": "markdown",
      "source": [
        "Vocabulary/"
      ],
      "metadata": {
        "id": "tKhAJa3DhseF"
      }
    },
    {
      "cell_type": "code",
      "source": [
        "words = sentences.split()\n",
        "vocab = set(words)\n",
        "vocab"
      ],
      "metadata": {
        "colab": {
          "base_uri": "https://localhost:8080/"
        },
        "id": "51l6qxzph9BK",
        "outputId": "ee745c29-0dcb-413f-d713-031ce7794062"
      },
      "execution_count": 7,
      "outputs": [
        {
          "output_type": "execute_result",
          "data": {
            "text/plain": [
              "{'As',\n",
              " 'Computational',\n",
              " 'In',\n",
              " 'People',\n",
              " 'The',\n",
              " 'We',\n",
              " 'a',\n",
              " 'about',\n",
              " 'abstract',\n",
              " 'are',\n",
              " 'beings',\n",
              " 'by',\n",
              " 'called',\n",
              " 'computational',\n",
              " 'computer',\n",
              " 'computers.',\n",
              " 'conjure',\n",
              " 'create',\n",
              " 'data.',\n",
              " 'direct',\n",
              " 'directed',\n",
              " 'effect,',\n",
              " 'evolution',\n",
              " 'evolve,',\n",
              " 'idea',\n",
              " 'inhabit',\n",
              " 'is',\n",
              " 'manipulate',\n",
              " 'of',\n",
              " 'other',\n",
              " 'our',\n",
              " 'pattern',\n",
              " 'process',\n",
              " 'process.',\n",
              " 'processes',\n",
              " 'processes.',\n",
              " 'program.',\n",
              " 'programs',\n",
              " 'rules',\n",
              " 'spells.',\n",
              " 'spirits',\n",
              " 'study',\n",
              " 'that',\n",
              " 'the',\n",
              " 'they',\n",
              " 'things',\n",
              " 'to',\n",
              " 'we',\n",
              " 'with'}"
            ]
          },
          "metadata": {},
          "execution_count": 7
        }
      ]
    },
    {
      "cell_type": "code",
      "source": [
        "vocab_size = len(vocab) # 49\n",
        "embed_dim = 10\n",
        "context_size = 2\n",
        "# vocab_size"
      ],
      "metadata": {
        "id": "YZnxR-ETiA5h"
      },
      "execution_count": 12,
      "outputs": []
    },
    {
      "cell_type": "markdown",
      "source": [
        "Implementation "
      ],
      "metadata": {
        "id": "AjuFi18ziMKs"
      }
    },
    {
      "cell_type": "code",
      "source": [
        "word_to_ix = {word: i for i, word in enumerate(vocab)}  # word -> map  'idea' :  0\n",
        "ix_to_word = {i: word for i, word in enumerate(vocab)}  # map -> word    0    : 'idea'\n",
        "ix_to_word"
      ],
      "metadata": {
        "colab": {
          "base_uri": "https://localhost:8080/"
        },
        "id": "TvtL999GiM1u",
        "outputId": "50188bce-0f01-480c-d7b2-82abf239797d"
      },
      "execution_count": 13,
      "outputs": [
        {
          "output_type": "execute_result",
          "data": {
            "text/plain": [
              "{0: 'idea',\n",
              " 1: 'processes.',\n",
              " 2: 'process',\n",
              " 3: 'People',\n",
              " 4: 'As',\n",
              " 5: 'In',\n",
              " 6: 'We',\n",
              " 7: 'The',\n",
              " 8: 'program.',\n",
              " 9: 'about',\n",
              " 10: 'called',\n",
              " 11: 'effect,',\n",
              " 12: 'with',\n",
              " 13: 'inhabit',\n",
              " 14: 'manipulate',\n",
              " 15: 'data.',\n",
              " 16: 'by',\n",
              " 17: 'processes',\n",
              " 18: 'beings',\n",
              " 19: 'our',\n",
              " 20: 'rules',\n",
              " 21: 'spirits',\n",
              " 22: 'is',\n",
              " 23: 'to',\n",
              " 24: 'computers.',\n",
              " 25: 'computer',\n",
              " 26: 'spells.',\n",
              " 27: 'that',\n",
              " 28: 'the',\n",
              " 29: 'are',\n",
              " 30: 'we',\n",
              " 31: 'Computational',\n",
              " 32: 'evolve,',\n",
              " 33: 'study',\n",
              " 34: 'evolution',\n",
              " 35: 'a',\n",
              " 36: 'programs',\n",
              " 37: 'direct',\n",
              " 38: 'pattern',\n",
              " 39: 'computational',\n",
              " 40: 'things',\n",
              " 41: 'directed',\n",
              " 42: 'create',\n",
              " 43: 'abstract',\n",
              " 44: 'conjure',\n",
              " 45: 'they',\n",
              " 46: 'other',\n",
              " 47: 'of',\n",
              " 48: 'process.'}"
            ]
          },
          "metadata": {},
          "execution_count": 13
        }
      ]
    },
    {
      "cell_type": "markdown",
      "source": [
        "**Data bags**"
      ],
      "metadata": {
        "id": "vzxzfW1di4E1"
      }
    },
    {
      "cell_type": "code",
      "source": [
        "# data - [(context), target]\n",
        "\n",
        "data = []\n",
        "for i in range(2, len(words) - 2):\n",
        "    context = [words[i - 2], words[i - 1], words[i + 1], words[i + 2]]\n",
        "    target = words[i]\n",
        "    data.append((context, target))\n",
        "print(data[:5])"
      ],
      "metadata": {
        "colab": {
          "base_uri": "https://localhost:8080/"
        },
        "id": "vjXnMdiCi6FL",
        "outputId": "d99eef3f-cc87-4d54-f3fe-febc706f5e84"
      },
      "execution_count": 14,
      "outputs": [
        {
          "output_type": "stream",
          "name": "stdout",
          "text": [
            "[(['We', 'are', 'to', 'study'], 'about'), (['are', 'about', 'study', 'the'], 'to'), (['about', 'to', 'the', 'idea'], 'study'), (['to', 'study', 'idea', 'of'], 'the'), (['study', 'the', 'of', 'a'], 'idea')]\n"
          ]
        }
      ]
    },
    {
      "cell_type": "code",
      "source": [
        "embeddings =  np.random.random_sample((vocab_size, embed_dim))"
      ],
      "metadata": {
        "id": "wSErL66pi9aX"
      },
      "execution_count": 15,
      "outputs": []
    },
    {
      "cell_type": "markdown",
      "source": [
        "Linear Model"
      ],
      "metadata": {
        "id": "bBDKuM77jMQG"
      }
    },
    {
      "cell_type": "code",
      "source": [
        "def linear(m, theta):\n",
        "    w = theta\n",
        "    return m.dot(w)"
      ],
      "metadata": {
        "id": "9bLYogLFjGhN"
      },
      "execution_count": 16,
      "outputs": []
    },
    {
      "cell_type": "markdown",
      "source": [
        "*Log softmax + NLLloss = Cross Entropy*"
      ],
      "metadata": {
        "id": "LaQOpnpajJXo"
      }
    },
    {
      "cell_type": "code",
      "source": [
        "def log_softmax(x):\n",
        "    e_x = np.exp(x - np.max(x))\n",
        "    return np.log(e_x / e_x.sum())"
      ],
      "metadata": {
        "id": "o4zbQtdAjKvU"
      },
      "execution_count": 17,
      "outputs": []
    },
    {
      "cell_type": "code",
      "source": [
        "def NLLLoss(logs, targets):\n",
        "    out = logs[range(len(targets)), targets]\n",
        "    return -out.sum()/len(out)"
      ],
      "metadata": {
        "id": "GZt78OKPjXwV"
      },
      "execution_count": 18,
      "outputs": []
    },
    {
      "cell_type": "code",
      "source": [
        "def log_softmax_crossentropy_with_logits(logits,target):\n",
        "\n",
        "    out = np.zeros_like(logits)\n",
        "    out[np.arange(len(logits)),target] = 1\n",
        "    \n",
        "    softmax = np.exp(logits) / np.exp(logits).sum(axis=-1,keepdims=True)\n",
        "    \n",
        "    return (- out + softmax) / logits.shape[0]"
      ],
      "metadata": {
        "id": "_mLu9lgEjYLn"
      },
      "execution_count": 19,
      "outputs": []
    },
    {
      "cell_type": "markdown",
      "source": [
        "Forward function"
      ],
      "metadata": {
        "id": "-P4205tUjcrK"
      }
    },
    {
      "cell_type": "code",
      "source": [
        "def forward(context_idxs, theta):\n",
        "    m = embeddings[context_idxs].reshape(1, -1)\n",
        "    n = linear(m, theta)\n",
        "    o = log_softmax(n)\n",
        "    \n",
        "    return m, n, o"
      ],
      "metadata": {
        "id": "r8MFtnBHjdJ6"
      },
      "execution_count": 20,
      "outputs": []
    },
    {
      "cell_type": "markdown",
      "source": [
        "Backward function"
      ],
      "metadata": {
        "id": "9LCtq_wxjk_L"
      }
    },
    {
      "cell_type": "code",
      "source": [
        "def backward(preds, theta, target_idxs):\n",
        "    m, n, o = preds\n",
        "    \n",
        "    dlog = log_softmax_crossentropy_with_logits(n, target_idxs)\n",
        "    dw = m.T.dot(dlog)\n",
        "    \n",
        "    return dw"
      ],
      "metadata": {
        "id": "0hiDsosPjgRC"
      },
      "execution_count": 21,
      "outputs": []
    },
    {
      "cell_type": "code",
      "source": [
        "\n"
      ],
      "metadata": {
        "id": "iiDZCWQajoJg"
      },
      "execution_count": 21,
      "outputs": []
    },
    {
      "cell_type": "code",
      "source": [
        "theta = np.random.uniform(-1, 1, (2 * context_size * embed_dim, vocab_size))\n"
      ],
      "metadata": {
        "id": "o9V3BpxUjrT-"
      },
      "execution_count": 22,
      "outputs": []
    },
    {
      "cell_type": "code",
      "source": [],
      "metadata": {
        "id": "J10u8Oijjr0M"
      },
      "execution_count": null,
      "outputs": []
    }
  ]
}